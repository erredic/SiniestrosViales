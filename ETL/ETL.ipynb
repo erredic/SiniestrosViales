{
 "cells": [
  {
   "cell_type": "markdown",
   "metadata": {},
   "source": [
    "# Transformaciones\n",
    "\n",
    "A lo largo de este archivo se modificara los datos con el fin de poder acceder mas facilmente a esto dentro de PowerBI"
   ]
  },
  {
   "cell_type": "markdown",
   "metadata": {},
   "source": [
    "Primero importamos las librerias"
   ]
  },
  {
   "cell_type": "code",
   "execution_count": 1,
   "metadata": {},
   "outputs": [],
   "source": [
    "import pandas as pd\n",
    "\n"
   ]
  },
  {
   "cell_type": "code",
   "execution_count": 2,
   "metadata": {},
   "outputs": [],
   "source": [
    "# Cargar las hojas del archivo de Excel en dataframes por separado\n",
    "hechos_df = pd.read_excel(r\"C:\\Users\\mateo\\OneDrive\\Escritorio\\data science\\labs 2\\SINIESTROSVIALES\\Datos\\homicidios.xlsx\", sheet_name='HECHOS')\n",
    "victimas_df = pd.read_excel(r\"C:\\Users\\mateo\\OneDrive\\Escritorio\\data science\\labs 2\\SINIESTROSVIALES\\Datos\\homicidios.xlsx\", sheet_name='VICTIMAS')"
   ]
  },
  {
   "cell_type": "code",
   "execution_count": 3,
   "metadata": {},
   "outputs": [
    {
     "name": "stdout",
     "output_type": "stream",
     "text": [
      "Primeras dos filas del dataframe HECHOS:\n"
     ]
    },
    {
     "data": {
      "text/html": [
       "<div>\n",
       "<style scoped>\n",
       "    .dataframe tbody tr th:only-of-type {\n",
       "        vertical-align: middle;\n",
       "    }\n",
       "\n",
       "    .dataframe tbody tr th {\n",
       "        vertical-align: top;\n",
       "    }\n",
       "\n",
       "    .dataframe thead th {\n",
       "        text-align: right;\n",
       "    }\n",
       "</style>\n",
       "<table border=\"1\" class=\"dataframe\">\n",
       "  <thead>\n",
       "    <tr style=\"text-align: right;\">\n",
       "      <th></th>\n",
       "      <th>ID</th>\n",
       "      <th>N_VICTIMAS</th>\n",
       "      <th>FECHA</th>\n",
       "      <th>AAAA</th>\n",
       "      <th>MM</th>\n",
       "      <th>DD</th>\n",
       "      <th>HORA</th>\n",
       "      <th>HH</th>\n",
       "      <th>LUGAR_DEL_HECHO</th>\n",
       "      <th>TIPO_DE_CALLE</th>\n",
       "      <th>...</th>\n",
       "      <th>Altura</th>\n",
       "      <th>Cruce</th>\n",
       "      <th>Dirección Normalizada</th>\n",
       "      <th>COMUNA</th>\n",
       "      <th>XY (CABA)</th>\n",
       "      <th>pos x</th>\n",
       "      <th>pos y</th>\n",
       "      <th>PARTICIPANTES</th>\n",
       "      <th>VICTIMA</th>\n",
       "      <th>ACUSADO</th>\n",
       "    </tr>\n",
       "  </thead>\n",
       "  <tbody>\n",
       "    <tr>\n",
       "      <th>0</th>\n",
       "      <td>2016-0001</td>\n",
       "      <td>1</td>\n",
       "      <td>2016-01-01</td>\n",
       "      <td>2016</td>\n",
       "      <td>1</td>\n",
       "      <td>1</td>\n",
       "      <td>04:00:00</td>\n",
       "      <td>4</td>\n",
       "      <td>AV PIEDRA BUENA Y AV FERNANDEZ DE LA CRUZ</td>\n",
       "      <td>AVENIDA</td>\n",
       "      <td>...</td>\n",
       "      <td>NaN</td>\n",
       "      <td>FERNANDEZ DE LA CRUZ, F., GRAL. AV.</td>\n",
       "      <td>PIEDRA BUENA AV. y FERNANDEZ DE LA CRUZ, F., G...</td>\n",
       "      <td>8</td>\n",
       "      <td>Point (98896.78238426 93532.43437792)</td>\n",
       "      <td>-58.47533969</td>\n",
       "      <td>-34.68757022</td>\n",
       "      <td>MOTO-AUTO</td>\n",
       "      <td>MOTO</td>\n",
       "      <td>AUTO</td>\n",
       "    </tr>\n",
       "    <tr>\n",
       "      <th>1</th>\n",
       "      <td>2016-0002</td>\n",
       "      <td>1</td>\n",
       "      <td>2016-01-02</td>\n",
       "      <td>2016</td>\n",
       "      <td>1</td>\n",
       "      <td>2</td>\n",
       "      <td>01:15:00</td>\n",
       "      <td>1</td>\n",
       "      <td>AV GRAL PAZ  Y AV DE LOS CORRALES</td>\n",
       "      <td>GRAL PAZ</td>\n",
       "      <td>...</td>\n",
       "      <td>NaN</td>\n",
       "      <td>DE LOS CORRALES AV.</td>\n",
       "      <td>PAZ, GRAL. AV. y DE LOS CORRALES AV.</td>\n",
       "      <td>9</td>\n",
       "      <td>Point (95832.05571093 95505.41641999)</td>\n",
       "      <td>-58.50877521</td>\n",
       "      <td>-34.66977709</td>\n",
       "      <td>AUTO-PASAJEROS</td>\n",
       "      <td>AUTO</td>\n",
       "      <td>PASAJEROS</td>\n",
       "    </tr>\n",
       "  </tbody>\n",
       "</table>\n",
       "<p>2 rows × 21 columns</p>\n",
       "</div>"
      ],
      "text/plain": [
       "          ID  N_VICTIMAS      FECHA  AAAA  MM  DD      HORA HH  \\\n",
       "0  2016-0001           1 2016-01-01  2016   1   1  04:00:00  4   \n",
       "1  2016-0002           1 2016-01-02  2016   1   2  01:15:00  1   \n",
       "\n",
       "                             LUGAR_DEL_HECHO TIPO_DE_CALLE  ... Altura  \\\n",
       "0  AV PIEDRA BUENA Y AV FERNANDEZ DE LA CRUZ       AVENIDA  ...    NaN   \n",
       "1          AV GRAL PAZ  Y AV DE LOS CORRALES      GRAL PAZ  ...    NaN   \n",
       "\n",
       "                                 Cruce  \\\n",
       "0  FERNANDEZ DE LA CRUZ, F., GRAL. AV.   \n",
       "1                  DE LOS CORRALES AV.   \n",
       "\n",
       "                               Dirección Normalizada COMUNA  \\\n",
       "0  PIEDRA BUENA AV. y FERNANDEZ DE LA CRUZ, F., G...      8   \n",
       "1               PAZ, GRAL. AV. y DE LOS CORRALES AV.      9   \n",
       "\n",
       "                               XY (CABA)         pos x         pos y  \\\n",
       "0  Point (98896.78238426 93532.43437792)  -58.47533969  -34.68757022   \n",
       "1  Point (95832.05571093 95505.41641999)  -58.50877521  -34.66977709   \n",
       "\n",
       "    PARTICIPANTES VICTIMA    ACUSADO  \n",
       "0       MOTO-AUTO    MOTO       AUTO  \n",
       "1  AUTO-PASAJEROS    AUTO  PASAJEROS  \n",
       "\n",
       "[2 rows x 21 columns]"
      ]
     },
     "metadata": {},
     "output_type": "display_data"
    }
   ],
   "source": [
    "print(\"Primeras dos filas del dataframe HECHOS:\")\n",
    "display(hechos_df.head(2))\n",
    "\n"
   ]
  },
  {
   "cell_type": "code",
   "execution_count": 4,
   "metadata": {},
   "outputs": [
    {
     "name": "stdout",
     "output_type": "stream",
     "text": [
      "\n",
      "Tipos de datos de las columnas en HECHOS:\n",
      "ID                               object\n",
      "N_VICTIMAS                        int64\n",
      "FECHA                    datetime64[ns]\n",
      "AAAA                              int64\n",
      "MM                                int64\n",
      "DD                                int64\n",
      "HORA                             object\n",
      "HH                               object\n",
      "LUGAR_DEL_HECHO                  object\n",
      "TIPO_DE_CALLE                    object\n",
      "Calle                            object\n",
      "Altura                          float64\n",
      "Cruce                            object\n",
      "Dirección Normalizada            object\n",
      "COMUNA                            int64\n",
      "XY (CABA)                        object\n",
      "pos x                            object\n",
      "pos y                            object\n",
      "PARTICIPANTES                    object\n",
      "VICTIMA                          object\n",
      "ACUSADO                          object\n",
      "dtype: object\n"
     ]
    }
   ],
   "source": [
    "print(\"\\nTipos de datos de las columnas en HECHOS:\")\n",
    "print(hechos_df.dtypes)"
   ]
  },
  {
   "cell_type": "code",
   "execution_count": 5,
   "metadata": {},
   "outputs": [
    {
     "name": "stdout",
     "output_type": "stream",
     "text": [
      "\n",
      "Primeras dos filas del dataframe VICTIMAS:\n"
     ]
    },
    {
     "data": {
      "text/html": [
       "<div>\n",
       "<style scoped>\n",
       "    .dataframe tbody tr th:only-of-type {\n",
       "        vertical-align: middle;\n",
       "    }\n",
       "\n",
       "    .dataframe tbody tr th {\n",
       "        vertical-align: top;\n",
       "    }\n",
       "\n",
       "    .dataframe thead th {\n",
       "        text-align: right;\n",
       "    }\n",
       "</style>\n",
       "<table border=\"1\" class=\"dataframe\">\n",
       "  <thead>\n",
       "    <tr style=\"text-align: right;\">\n",
       "      <th></th>\n",
       "      <th>ID_hecho</th>\n",
       "      <th>FECHA</th>\n",
       "      <th>AAAA</th>\n",
       "      <th>MM</th>\n",
       "      <th>DD</th>\n",
       "      <th>ROL</th>\n",
       "      <th>VICTIMA</th>\n",
       "      <th>SEXO</th>\n",
       "      <th>EDAD</th>\n",
       "      <th>FECHA_FALLECIMIENTO</th>\n",
       "    </tr>\n",
       "  </thead>\n",
       "  <tbody>\n",
       "    <tr>\n",
       "      <th>0</th>\n",
       "      <td>2016-0001</td>\n",
       "      <td>2016-01-01</td>\n",
       "      <td>2016</td>\n",
       "      <td>1</td>\n",
       "      <td>1</td>\n",
       "      <td>CONDUCTOR</td>\n",
       "      <td>MOTO</td>\n",
       "      <td>MASCULINO</td>\n",
       "      <td>19</td>\n",
       "      <td>2016-01-01 00:00:00</td>\n",
       "    </tr>\n",
       "    <tr>\n",
       "      <th>1</th>\n",
       "      <td>2016-0002</td>\n",
       "      <td>2016-01-02</td>\n",
       "      <td>2016</td>\n",
       "      <td>1</td>\n",
       "      <td>2</td>\n",
       "      <td>CONDUCTOR</td>\n",
       "      <td>AUTO</td>\n",
       "      <td>MASCULINO</td>\n",
       "      <td>70</td>\n",
       "      <td>2016-01-02 00:00:00</td>\n",
       "    </tr>\n",
       "  </tbody>\n",
       "</table>\n",
       "</div>"
      ],
      "text/plain": [
       "    ID_hecho      FECHA  AAAA  MM  DD        ROL VICTIMA       SEXO EDAD  \\\n",
       "0  2016-0001 2016-01-01  2016   1   1  CONDUCTOR    MOTO  MASCULINO   19   \n",
       "1  2016-0002 2016-01-02  2016   1   2  CONDUCTOR    AUTO  MASCULINO   70   \n",
       "\n",
       "   FECHA_FALLECIMIENTO  \n",
       "0  2016-01-01 00:00:00  \n",
       "1  2016-01-02 00:00:00  "
      ]
     },
     "metadata": {},
     "output_type": "display_data"
    }
   ],
   "source": [
    "print(\"\\nPrimeras dos filas del dataframe VICTIMAS:\")\n",
    "display(victimas_df.head(2))"
   ]
  },
  {
   "cell_type": "code",
   "execution_count": 6,
   "metadata": {},
   "outputs": [
    {
     "name": "stdout",
     "output_type": "stream",
     "text": [
      "\n",
      "Tipos de datos de las columnas en VICTIMAS:\n",
      "ID_hecho                       object\n",
      "FECHA                  datetime64[ns]\n",
      "AAAA                            int64\n",
      "MM                              int64\n",
      "DD                              int64\n",
      "ROL                            object\n",
      "VICTIMA                        object\n",
      "SEXO                           object\n",
      "EDAD                           object\n",
      "FECHA_FALLECIMIENTO            object\n",
      "dtype: object\n"
     ]
    }
   ],
   "source": [
    "print(\"\\nTipos de datos de las columnas en VICTIMAS:\")\n",
    "print(victimas_df.dtypes)"
   ]
  },
  {
   "cell_type": "markdown",
   "metadata": {},
   "source": [
    "## Transformaciones de hechos"
   ]
  },
  {
   "cell_type": "code",
   "execution_count": 7,
   "metadata": {},
   "outputs": [],
   "source": [
    "# Crear la columna Semestre\n",
    "hechos_df['Semestre'] = hechos_df.apply(lambda row: f\"{row['AAAA']}-1\" if row['MM'] <= 6 else f\"{row['AAAA']}-2\", axis=1)\n",
    "\n"
   ]
  },
  {
   "cell_type": "code",
   "execution_count": 8,
   "metadata": {},
   "outputs": [],
   "source": [
    "# Crear la columna Poblacion de Buenos Aires\n",
    "hechos_df['Poblacion de Buenos Aires'] = 31217107\n",
    "\n"
   ]
  },
  {
   "cell_type": "code",
   "execution_count": 9,
   "metadata": {},
   "outputs": [],
   "source": [
    "# Crear la columna Tasa de homicidios\n",
    "hechos_df['Tasa de homicidios'] = hechos_df.groupby('Semestre')['N_VICTIMAS'].transform('sum')\n",
    "\n"
   ]
  },
  {
   "cell_type": "code",
   "execution_count": 10,
   "metadata": {},
   "outputs": [],
   "source": [
    "# Crear la columna \"tasa homicidios semestre anterior\"\n",
    "def calcular_tasa_semestre_anterior(row, df):\n",
    "    semestre_actual = row['Semestre']\n",
    "    año_actual = int(semestre_actual.split('-')[0])\n",
    "    semestre_numero = int(semestre_actual.split('-')[1])\n",
    "    \n",
    "    if semestre_numero == 1:\n",
    "        semestre_anterior = f\"{año_actual - 1}-2\"\n",
    "    else:\n",
    "        semestre_anterior = f\"{año_actual}-1\"\n",
    "    \n",
    "    tasa_anterior = df[df['Semestre'] == semestre_anterior]['Tasa de homicidios']\n",
    "    return tasa_anterior.iloc[0] if not tasa_anterior.empty else 0\n",
    "\n",
    "hechos_df['Tasa Homicidios Semestre Anterior'] = hechos_df.apply(lambda row: calcular_tasa_semestre_anterior(row, hechos_df), axis=1)\n"
   ]
  },
  {
   "cell_type": "code",
   "execution_count": 11,
   "metadata": {},
   "outputs": [],
   "source": [
    "# Función para calcular KPI1\n",
    "def calcular_kpi1(df):\n",
    "    kpi1 = []\n",
    "    for index, row in df.iterrows():\n",
    "        current_semester = row['Semestre']\n",
    "        current_year = int(current_semester.split('-')[0])\n",
    "        current_half = int(current_semester.split('-')[1])\n",
    "        \n",
    "        # Semestre anterior\n",
    "        if current_half == 1:\n",
    "            previous_semester = f\"{current_year-1}-2\"\n",
    "        else:\n",
    "            previous_semester = f\"{current_year}-1\"\n",
    "        \n",
    "        # Tasa de homicidios actual y anterior\n",
    "        current_rate = (df[df['Semestre'] == current_semester]['N_VICTIMAS'].sum() / 31217107) * 100000\n",
    "        previous_rate = (df[df['Semestre'] == previous_semester]['N_VICTIMAS'].sum() / 31217107) * 100000\n",
    "        \n",
    "        if previous_rate == 0:\n",
    "            kpi1.append('SD')\n",
    "        else:\n",
    "            kpi1_value = ((previous_rate - current_rate) / previous_rate) * 100\n",
    "            kpi1.append(kpi1_value)\n",
    "    \n",
    "    return kpi1\n",
    "\n",
    "# Crear la columna KPI1\n",
    "hechos_df['KPI1'] = calcular_kpi1(hechos_df)\n",
    "\n"
   ]
  },
  {
   "cell_type": "code",
   "execution_count": 12,
   "metadata": {},
   "outputs": [],
   "source": [
    "# Crear la columna \"victimas moto\"\n",
    "hechos_df['Victimas Moto'] = hechos_df.apply(lambda row: row['N_VICTIMAS'] if row['VICTIMA'] == 'MOTO' else 0, axis=1)\n"
   ]
  },
  {
   "cell_type": "code",
   "execution_count": 13,
   "metadata": {},
   "outputs": [],
   "source": [
    "# Crear la columna \"victimas moto año pasado\"\n",
    "def calcular_victimas_moto_anterior(row, df):\n",
    "    año_actual = row['AAAA']\n",
    "    año_anterior = año_actual - 1\n",
    "    victimas_anterior = df[(df['AAAA'] == año_anterior) & (df['VICTIMA'] == 'MOTO')]['N_VICTIMAS'].sum()\n",
    "    return victimas_anterior if victimas_anterior else 0\n",
    "\n",
    "hechos_df['Victimas Moto Año Pasado'] = hechos_df.apply(lambda row: calcular_victimas_moto_anterior(row, hechos_df), axis=1)\n"
   ]
  },
  {
   "cell_type": "code",
   "execution_count": 14,
   "metadata": {},
   "outputs": [],
   "source": [
    "# Función para calcular KPI2\n",
    "def calcular_kpi2(df):\n",
    "    kpi2 = []\n",
    "    for index, row in df.iterrows():\n",
    "        current_year = row['AAAA']\n",
    "        \n",
    "        # Año anterior\n",
    "        previous_year = current_year - 1\n",
    "        \n",
    "        # Número de accidentes mortales con víctimas en moto\n",
    "        current_motorcycle_accidents = df[(df['AAAA'] == current_year) & (df['VICTIMA'] == 'MOTO')].shape[0]\n",
    "        previous_motorcycle_accidents = df[(df['AAAA'] == previous_year) & (df['VICTIMA'] == 'MOTO')].shape[0]\n",
    "        \n",
    "        if previous_motorcycle_accidents == 0:\n",
    "            kpi2.append('SD')\n",
    "        else:\n",
    "            kpi2_value = ((previous_motorcycle_accidents - current_motorcycle_accidents) / previous_motorcycle_accidents) * 100\n",
    "            kpi2.append(kpi2_value)\n",
    "    \n",
    "    return kpi2\n",
    "\n",
    "# Crear la columna KPI2\n",
    "hechos_df['KPI2'] = calcular_kpi2(hechos_df)\n",
    "\n"
   ]
  },
  {
   "cell_type": "code",
   "execution_count": 15,
   "metadata": {},
   "outputs": [
    {
     "data": {
      "text/html": [
       "<div>\n",
       "<style scoped>\n",
       "    .dataframe tbody tr th:only-of-type {\n",
       "        vertical-align: middle;\n",
       "    }\n",
       "\n",
       "    .dataframe tbody tr th {\n",
       "        vertical-align: top;\n",
       "    }\n",
       "\n",
       "    .dataframe thead th {\n",
       "        text-align: right;\n",
       "    }\n",
       "</style>\n",
       "<table border=\"1\" class=\"dataframe\">\n",
       "  <thead>\n",
       "    <tr style=\"text-align: right;\">\n",
       "      <th></th>\n",
       "      <th>ID</th>\n",
       "      <th>N_VICTIMAS</th>\n",
       "      <th>FECHA</th>\n",
       "      <th>AAAA</th>\n",
       "      <th>MM</th>\n",
       "      <th>DD</th>\n",
       "      <th>HORA</th>\n",
       "      <th>HH</th>\n",
       "      <th>LUGAR_DEL_HECHO</th>\n",
       "      <th>TIPO_DE_CALLE</th>\n",
       "      <th>...</th>\n",
       "      <th>VICTIMA</th>\n",
       "      <th>ACUSADO</th>\n",
       "      <th>Semestre</th>\n",
       "      <th>Poblacion de Buenos Aires</th>\n",
       "      <th>Tasa de homicidios</th>\n",
       "      <th>Tasa Homicidios Semestre Anterior</th>\n",
       "      <th>KPI1</th>\n",
       "      <th>Victimas Moto</th>\n",
       "      <th>Victimas Moto Año Pasado</th>\n",
       "      <th>KPI2</th>\n",
       "    </tr>\n",
       "  </thead>\n",
       "  <tbody>\n",
       "    <tr>\n",
       "      <th>0</th>\n",
       "      <td>2016-0001</td>\n",
       "      <td>1</td>\n",
       "      <td>2016-01-01</td>\n",
       "      <td>2016</td>\n",
       "      <td>1</td>\n",
       "      <td>1</td>\n",
       "      <td>04:00:00</td>\n",
       "      <td>4</td>\n",
       "      <td>AV PIEDRA BUENA Y AV FERNANDEZ DE LA CRUZ</td>\n",
       "      <td>AVENIDA</td>\n",
       "      <td>...</td>\n",
       "      <td>MOTO</td>\n",
       "      <td>AUTO</td>\n",
       "      <td>2016-1</td>\n",
       "      <td>31217107</td>\n",
       "      <td>65</td>\n",
       "      <td>0</td>\n",
       "      <td>SD</td>\n",
       "      <td>1</td>\n",
       "      <td>0</td>\n",
       "      <td>SD</td>\n",
       "    </tr>\n",
       "    <tr>\n",
       "      <th>1</th>\n",
       "      <td>2016-0002</td>\n",
       "      <td>1</td>\n",
       "      <td>2016-01-02</td>\n",
       "      <td>2016</td>\n",
       "      <td>1</td>\n",
       "      <td>2</td>\n",
       "      <td>01:15:00</td>\n",
       "      <td>1</td>\n",
       "      <td>AV GRAL PAZ  Y AV DE LOS CORRALES</td>\n",
       "      <td>GRAL PAZ</td>\n",
       "      <td>...</td>\n",
       "      <td>AUTO</td>\n",
       "      <td>PASAJEROS</td>\n",
       "      <td>2016-1</td>\n",
       "      <td>31217107</td>\n",
       "      <td>65</td>\n",
       "      <td>0</td>\n",
       "      <td>SD</td>\n",
       "      <td>0</td>\n",
       "      <td>0</td>\n",
       "      <td>SD</td>\n",
       "    </tr>\n",
       "  </tbody>\n",
       "</table>\n",
       "<p>2 rows × 29 columns</p>\n",
       "</div>"
      ],
      "text/plain": [
       "          ID  N_VICTIMAS      FECHA  AAAA  MM  DD      HORA HH  \\\n",
       "0  2016-0001           1 2016-01-01  2016   1   1  04:00:00  4   \n",
       "1  2016-0002           1 2016-01-02  2016   1   2  01:15:00  1   \n",
       "\n",
       "                             LUGAR_DEL_HECHO TIPO_DE_CALLE  ... VICTIMA  \\\n",
       "0  AV PIEDRA BUENA Y AV FERNANDEZ DE LA CRUZ       AVENIDA  ...    MOTO   \n",
       "1          AV GRAL PAZ  Y AV DE LOS CORRALES      GRAL PAZ  ...    AUTO   \n",
       "\n",
       "     ACUSADO Semestre Poblacion de Buenos Aires  Tasa de homicidios  \\\n",
       "0       AUTO   2016-1                  31217107                  65   \n",
       "1  PASAJEROS   2016-1                  31217107                  65   \n",
       "\n",
       "  Tasa Homicidios Semestre Anterior KPI1 Victimas Moto  \\\n",
       "0                                 0   SD             1   \n",
       "1                                 0   SD             0   \n",
       "\n",
       "  Victimas Moto Año Pasado KPI2  \n",
       "0                        0   SD  \n",
       "1                        0   SD  \n",
       "\n",
       "[2 rows x 29 columns]"
      ]
     },
     "execution_count": 15,
     "metadata": {},
     "output_type": "execute_result"
    }
   ],
   "source": [
    "# Mostrar las primeras dos filas del dataframe actualizado\n",
    "hechos_df.head(2)"
   ]
  },
  {
   "cell_type": "markdown",
   "metadata": {},
   "source": [
    "## Transformaciones de Victimas"
   ]
  },
  {
   "cell_type": "code",
   "execution_count": 16,
   "metadata": {},
   "outputs": [],
   "source": [
    "#Crear una columna que diga los menores que son victimas anuales\n",
    "victimas_df['EDAD'] = pd.to_numeric(victimas_df['EDAD'], errors='coerce')\n",
    "victimas_df['Menoresvictimasanual'] = victimas_df.apply(lambda row: 1 if 0 <= row['EDAD'] <= 17 else 0, axis=1)\n",
    "menores_victimas_anuales = victimas_df.groupby('AAAA')['Menoresvictimasanual'].sum().reset_index()\n",
    "\n",
    "# Merge con el dataframe original para incluir la columna Menoresvictimasanual\n",
    "victimas_df = victimas_df.merge(menores_victimas_anuales, on='AAAA', suffixes=('', '_total'))\n"
   ]
  },
  {
   "cell_type": "code",
   "execution_count": 17,
   "metadata": {},
   "outputs": [],
   "source": [
    "def calcular_menores_victimas_anterior(row, df):\n",
    "    año_actual = row['AAAA']\n",
    "    año_anterior = año_actual - 1\n",
    "    menores_anterior = df[(df['AAAA'] == año_anterior) & (df['EDAD'] <= 17)].shape[0]\n",
    "    return menores_anterior\n",
    "\n",
    "victimas_df['Menoresvictimasanual_Ant'] = victimas_df.apply(lambda row: calcular_menores_victimas_anterior(row, victimas_df), axis=1)\n"
   ]
  },
  {
   "cell_type": "code",
   "execution_count": 18,
   "metadata": {},
   "outputs": [],
   "source": [
    "def calcular_kpi3(df):\n",
    "    kpi3 = []\n",
    "    for index, row in df.iterrows():\n",
    "        current_year = row['AAAA']\n",
    "        previous_year = current_year - 1\n",
    "\n",
    "        current_year_victims = df[df['AAAA'] == current_year]['Menoresvictimasanual_total'].iloc[0]\n",
    "        previous_year_victims = df[df['AAAA'] == previous_year]['Menoresvictimasanual_total'].iloc[0] if previous_year in df['AAAA'].values else 0\n",
    "\n",
    "        if previous_year_victims == 0:\n",
    "            kpi3.append('SD')\n",
    "        else:\n",
    "            kpi3_value = ((current_year_victims - previous_year_victims) / previous_year_victims) * 100\n",
    "            kpi3.append(kpi3_value)\n",
    "\n",
    "    return kpi3\n",
    "\n",
    "# Crear la columna KPI3\n",
    "victimas_df['KPI3'] = calcular_kpi3(victimas_df)\n"
   ]
  },
  {
   "cell_type": "code",
   "execution_count": 19,
   "metadata": {},
   "outputs": [
    {
     "data": {
      "text/html": [
       "<div>\n",
       "<style scoped>\n",
       "    .dataframe tbody tr th:only-of-type {\n",
       "        vertical-align: middle;\n",
       "    }\n",
       "\n",
       "    .dataframe tbody tr th {\n",
       "        vertical-align: top;\n",
       "    }\n",
       "\n",
       "    .dataframe thead th {\n",
       "        text-align: right;\n",
       "    }\n",
       "</style>\n",
       "<table border=\"1\" class=\"dataframe\">\n",
       "  <thead>\n",
       "    <tr style=\"text-align: right;\">\n",
       "      <th></th>\n",
       "      <th>ID_hecho</th>\n",
       "      <th>FECHA</th>\n",
       "      <th>AAAA</th>\n",
       "      <th>MM</th>\n",
       "      <th>DD</th>\n",
       "      <th>ROL</th>\n",
       "      <th>VICTIMA</th>\n",
       "      <th>SEXO</th>\n",
       "      <th>EDAD</th>\n",
       "      <th>FECHA_FALLECIMIENTO</th>\n",
       "      <th>Menoresvictimasanual</th>\n",
       "      <th>Menoresvictimasanual_total</th>\n",
       "      <th>Menoresvictimasanual_Ant</th>\n",
       "      <th>KPI3</th>\n",
       "    </tr>\n",
       "  </thead>\n",
       "  <tbody>\n",
       "    <tr>\n",
       "      <th>0</th>\n",
       "      <td>2016-0001</td>\n",
       "      <td>2016-01-01</td>\n",
       "      <td>2016</td>\n",
       "      <td>1</td>\n",
       "      <td>1</td>\n",
       "      <td>CONDUCTOR</td>\n",
       "      <td>MOTO</td>\n",
       "      <td>MASCULINO</td>\n",
       "      <td>19.0</td>\n",
       "      <td>2016-01-01 00:00:00</td>\n",
       "      <td>0</td>\n",
       "      <td>3</td>\n",
       "      <td>0</td>\n",
       "      <td>SD</td>\n",
       "    </tr>\n",
       "    <tr>\n",
       "      <th>1</th>\n",
       "      <td>2016-0002</td>\n",
       "      <td>2016-01-02</td>\n",
       "      <td>2016</td>\n",
       "      <td>1</td>\n",
       "      <td>2</td>\n",
       "      <td>CONDUCTOR</td>\n",
       "      <td>AUTO</td>\n",
       "      <td>MASCULINO</td>\n",
       "      <td>70.0</td>\n",
       "      <td>2016-01-02 00:00:00</td>\n",
       "      <td>0</td>\n",
       "      <td>3</td>\n",
       "      <td>0</td>\n",
       "      <td>SD</td>\n",
       "    </tr>\n",
       "  </tbody>\n",
       "</table>\n",
       "</div>"
      ],
      "text/plain": [
       "    ID_hecho      FECHA  AAAA  MM  DD        ROL VICTIMA       SEXO  EDAD  \\\n",
       "0  2016-0001 2016-01-01  2016   1   1  CONDUCTOR    MOTO  MASCULINO  19.0   \n",
       "1  2016-0002 2016-01-02  2016   1   2  CONDUCTOR    AUTO  MASCULINO  70.0   \n",
       "\n",
       "   FECHA_FALLECIMIENTO  Menoresvictimasanual  Menoresvictimasanual_total  \\\n",
       "0  2016-01-01 00:00:00                     0                           3   \n",
       "1  2016-01-02 00:00:00                     0                           3   \n",
       "\n",
       "   Menoresvictimasanual_Ant KPI3  \n",
       "0                         0   SD  \n",
       "1                         0   SD  "
      ]
     },
     "execution_count": 19,
     "metadata": {},
     "output_type": "execute_result"
    }
   ],
   "source": [
    "victimas_df.head(2)"
   ]
  },
  {
   "cell_type": "markdown",
   "metadata": {},
   "source": [
    "Se guardan los DF"
   ]
  },
  {
   "cell_type": "code",
   "execution_count": 20,
   "metadata": {},
   "outputs": [],
   "source": [
    "hechos_df.to_excel('hechos_actualizado.xlsx', index=False)\n",
    "victimas_df.to_excel('victimas_actualizado.xlsx', index=False)\n"
   ]
  }
 ],
 "metadata": {
  "kernelspec": {
   "display_name": "Python 3",
   "language": "python",
   "name": "python3"
  },
  "language_info": {
   "codemirror_mode": {
    "name": "ipython",
    "version": 3
   },
   "file_extension": ".py",
   "mimetype": "text/x-python",
   "name": "python",
   "nbconvert_exporter": "python",
   "pygments_lexer": "ipython3",
   "version": "3.11.5"
  }
 },
 "nbformat": 4,
 "nbformat_minor": 2
}
